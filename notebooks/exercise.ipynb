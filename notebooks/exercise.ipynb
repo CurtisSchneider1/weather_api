{
 "cells": [
  {
   "cell_type": "markdown",
   "id": "082670a0",
   "metadata": {},
   "source": [
    "Exercise"
   ]
  },
  {
   "cell_type": "code",
   "execution_count": 9,
   "id": "cf9e38d6",
   "metadata": {},
   "outputs": [],
   "source": [
    "import requests\n",
    "import pandas as pd\n",
    "from datetime import datetime"
   ]
  },
  {
   "cell_type": "code",
   "execution_count": 10,
   "id": "66d54084",
   "metadata": {},
   "outputs": [],
   "source": [
    "baseurl = f\"http://api.weatherapi.com/v1/\""
   ]
  },
  {
   "cell_type": "code",
   "execution_count": 30,
   "id": "b50474ca",
   "metadata": {},
   "outputs": [],
   "source": [
    "weather_data = []\n",
    "def get_city_data(city, api_key):\n",
    "    # get current weather\n",
    "    current_url = f\"{baseurl}current.json?key={api_key}&q={city}\"               # current API method\n",
    "    current_response = requests.get(current_url)\n",
    "    if current_response.status_code == 200:\n",
    "        current_data = current_response.json()\n",
    "        location = current_data['location']\n",
    "        current = current_data['current']\n",
    "        # build a summary for the city, save that summary into a dictionary\n",
    "        weather_data.append({\n",
    "            \"City\" : city,\n",
    "            \"Temperature\" : current['temp_f'],\n",
    "            \"Condition\" : current['condition']['text'],\n",
    "        })\n",
    "        print(f\"Weather for {location['name']}, {location['region']}\")\n",
    "        print(f\"Temperature: {current['temp_f']} F / {current['temp_c']} C\")\n",
    "        print(f\"Condition: {current['condition']['text']}\")\n",
    "    else:\n",
    "        print(f\"Error fetching data for {city}: {current_response.status_code}\")\n",
    "    \n",
    "    # get a forecast    \n",
    "    forecast_url = f\"{baseurl}forecast.json?key={api_key}&q={city}&days=3\"      # forecast API method\n",
    "    forecast_response = requests.get(forecast_url)\n",
    "    if forecast_response.status_code == 200:\n",
    "        forecast_data = forecast_response.json()\n",
    "        forecast = forecast_data['forecast']['forecastday']\n",
    "        forecast_3_days_summary = []\n",
    "        for day in forecast:\n",
    "            date_obj = datetime.strptime(day['date'], '%Y-%m-%d')\n",
    "            formatted_date = date_obj.strftime('%A, %B %d')\n",
    "            forecast_3_days_summary.append(f\"{formatted_date}: High {day['day']['maxtemp_f']}F / Low {day['day']['mintemp_f']}F - {day['day']['condition']['text']}\")\n",
    "    else:\n",
    "        print(f\"Error fetching data for {city}: {forecast_response.status_code}\")                \n",
    "\n",
    "    print(forecast_3_days_summary)\n",
    "\n",
    "    # get some astronomical data\n",
    "    today = pd.Timestamp.now().strftime(\"%Y-%m-%d\")\n",
    "    astro_url = f\"{baseurl}astronomy.json?key={api_key}&q={city}&dt={today}\"    # astronomy API method\n",
    "    astro_response = requests.get(astro_url)\n",
    "    if astro_response.status_code == 200:\n",
    "        astronomy_data = astro_response.json()\n",
    "        astronomy = astronomy_data['astronomy']['astro']\n",
    "        weather_data.append({\n",
    "            \"Sunrise\" : astronomy['sunrise'],\n",
    "            \"Sunset\" : astronomy['sunset'],\n",
    "            \"Moon Phase\" : astronomy['moon_phase'],\n",
    "        })\n",
    "        print(f\"Sunrise {astronomy['sunrise']} / Sunset {astronomy['sunset']} / Moon Phase: {astronomy['moon_phase']}\")\n",
    "    else:\n",
    "        print(f\"Error fetching data for {city}: {astro_response.status_code}\")\n",
    "\n",
    "    # get local time\n",
    "    tzone_url = f\"{baseurl}timezone.json?key={api_key}&q={city}\"               # timezone API method\n",
    "    tzone_response = requests.get(tzone_url)\n",
    "    if tzone_response.status_code == 200:\n",
    "        tzone_data = tzone_response.json()\n",
    "        localtime = tzone_data['location']\n",
    "        weather_data.append({\n",
    "            \"Local Time\" : localtime['localtime'],\n",
    "        })\n",
    "        print(f\"Time Zone for {location['name']}, {localtime['localtime']}\")\n",
    "    else:\n",
    "        print(f\"Error fetching data for {city}: {current_response.status_code}\")"
   ]
  },
  {
   "cell_type": "code",
   "execution_count": 31,
   "id": "7ac0066e",
   "metadata": {},
   "outputs": [
    {
     "name": "stdout",
     "output_type": "stream",
     "text": [
      "Weather for Louisville, Kentucky\n",
      "Temperature: 82.0 F / 27.8 C\n",
      "Condition: Sunny\n",
      "['Friday, September 05: High 84.0F / Low 58.8F - Partly Cloudy ', 'Saturday, September 06: High 73.0F / Low 59.7F - Patchy rain nearby', 'Sunday, September 07: High 76.6F / Low 53.2F - Sunny']\n",
      "Sunrise 07:17 AM / Sunset 08:06 PM / Moon Phase: Waxing Gibbous\n",
      "Time Zone for Louisville, 2025-09-05 13:33\n"
     ]
    }
   ],
   "source": [
    "# call the function\n",
    "get_city_data(\"Louisville\", \"36bb2a64547343d2a68154527250409\")"
   ]
  },
  {
   "cell_type": "code",
   "execution_count": 32,
   "id": "f537b07c",
   "metadata": {},
   "outputs": [],
   "source": [
    "# use the function to build a df that has the city data \n",
    "exercise_df = pd.DataFrame(weather_data)"
   ]
  },
  {
   "cell_type": "code",
   "execution_count": 33,
   "id": "3d402797",
   "metadata": {},
   "outputs": [],
   "source": [
    "# ...then save it into a csv file\n",
    "exercise_df.to_csv(\"../data/exercise.csv\", index=False)"
   ]
  }
 ],
 "metadata": {
  "kernelspec": {
   "display_name": "Python 3",
   "language": "python",
   "name": "python3"
  },
  "language_info": {
   "codemirror_mode": {
    "name": "ipython",
    "version": 3
   },
   "file_extension": ".py",
   "mimetype": "text/x-python",
   "name": "python",
   "nbconvert_exporter": "python",
   "pygments_lexer": "ipython3",
   "version": "3.13.4"
  }
 },
 "nbformat": 4,
 "nbformat_minor": 5
}
