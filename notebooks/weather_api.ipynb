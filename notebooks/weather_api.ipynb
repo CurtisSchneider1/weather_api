{
 "cells": [
  {
   "cell_type": "markdown",
   "id": "f53ac859",
   "metadata": {},
   "source": [
    "Weather API Project"
   ]
  },
  {
   "cell_type": "code",
   "execution_count": 160,
   "id": "c1ce6f5b",
   "metadata": {},
   "outputs": [],
   "source": [
    "baseurl = 'http://api.weatherapi.com/v1'\n",
    "key = '36bb2a64547343d2a68154527250409'\n"
   ]
  },
  {
   "cell_type": "code",
   "execution_count": 161,
   "id": "b232301a",
   "metadata": {},
   "outputs": [],
   "source": [
    "import requests\n",
    "import pandas as pd"
   ]
  },
  {
   "cell_type": "code",
   "execution_count": 159,
   "id": "e4804b2a",
   "metadata": {},
   "outputs": [],
   "source": [
    "city = 'Louisville'\n",
    "baseurl = f\"http://api.weatherapi.com/v1/current.json?key={key}&q={city}\"\n",
    "response = requests.get(baseurl)"
   ]
  },
  {
   "cell_type": "code",
   "execution_count": 162,
   "id": "b771fa05",
   "metadata": {},
   "outputs": [],
   "source": [
    "city = 'Louisville'\n",
    "baseurl = f\"http://api.weatherapi.com/v1/current.json?key={key}&q={city}\"\n",
    "response = requests.get(baseurl)"
   ]
  },
  {
   "cell_type": "code",
   "execution_count": 163,
   "id": "09738409",
   "metadata": {},
   "outputs": [
    {
     "data": {
      "text/plain": [
       "200"
      ]
     },
     "execution_count": 163,
     "metadata": {},
     "output_type": "execute_result"
    }
   ],
   "source": [
    "# 200 = it works\n",
    "response.status_code"
   ]
  },
  {
   "cell_type": "code",
   "execution_count": 164,
   "id": "fb4a6e72",
   "metadata": {},
   "outputs": [
    {
     "data": {
      "text/plain": [
       "{'location': {'name': 'Louisville',\n",
       "  'region': 'Kentucky',\n",
       "  'country': 'United States of America',\n",
       "  'lat': 38.2542,\n",
       "  'lon': -85.7594,\n",
       "  'tz_id': 'America/Kentucky/Louisville',\n",
       "  'localtime_epoch': 1757093487,\n",
       "  'localtime': '2025-09-05 13:31'},\n",
       " 'current': {'last_updated_epoch': 1757093400,\n",
       "  'last_updated': '2025-09-05 13:30',\n",
       "  'temp_c': 27.8,\n",
       "  'temp_f': 82.0,\n",
       "  'is_day': 1,\n",
       "  'condition': {'text': 'Sunny',\n",
       "   'icon': '//cdn.weatherapi.com/weather/64x64/day/113.png',\n",
       "   'code': 1000},\n",
       "  'wind_mph': 11.4,\n",
       "  'wind_kph': 18.4,\n",
       "  'wind_degree': 275,\n",
       "  'wind_dir': 'W',\n",
       "  'pressure_mb': 1012.0,\n",
       "  'pressure_in': 29.87,\n",
       "  'precip_mm': 0.0,\n",
       "  'precip_in': 0.0,\n",
       "  'humidity': 60,\n",
       "  'cloud': 0,\n",
       "  'feelslike_c': 30.1,\n",
       "  'feelslike_f': 86.2,\n",
       "  'windchill_c': 26.4,\n",
       "  'windchill_f': 79.6,\n",
       "  'heatindex_c': 28.4,\n",
       "  'heatindex_f': 83.2,\n",
       "  'dewpoint_c': 22.0,\n",
       "  'dewpoint_f': 71.6,\n",
       "  'vis_km': 16.0,\n",
       "  'vis_miles': 9.0,\n",
       "  'uv': 6.4,\n",
       "  'gust_mph': 13.1,\n",
       "  'gust_kph': 21.1,\n",
       "  'short_rad': 508.42,\n",
       "  'diff_rad': 103.23,\n",
       "  'dni': 703.37,\n",
       "  'gti': 286.52}}"
      ]
     },
     "execution_count": 164,
     "metadata": {},
     "output_type": "execute_result"
    }
   ],
   "source": [
    "# what is in the api\n",
    "data = response.json()\n",
    "data"
   ]
  },
  {
   "cell_type": "code",
   "execution_count": null,
   "id": "e2eeca6e",
   "metadata": {},
   "outputs": [],
   "source": [
    "current = data['current']\n",
    "location = data['location']\n",
    "temp_f = current['temp_f']\n",
    "wind_mph = current['wind_mph']\n",
    "humidity = current['humidity']"
   ]
  },
  {
   "cell_type": "code",
   "execution_count": null,
   "id": "51d65934",
   "metadata": {},
   "outputs": [],
   "source": [
    "temp_f, humidity"
   ]
  },
  {
   "cell_type": "code",
   "execution_count": null,
   "id": "05f8fe16",
   "metadata": {},
   "outputs": [],
   "source": [
    "def get_weather(city):\n",
    "    url = f\"http://api.weatherapi.com/v1/current.json?key={key}&q={city}\"\n",
    "    response = requests.get(url)\n",
    "    if response.status_code == 200:\n",
    "        data = response.json()\n",
    "        current = data['current']\n",
    "        location = data['location']\n",
    "        temp_f = current['temp_f']\n",
    "        wind_mph = current['wind_mph']\n",
    "        humidity = current['humidity']\n",
    "\n",
    "        print(f\"Weather for {location['name']}, {location['region']}\")\n",
    "        print(f\"Temperature: {current['temp_f']} F / {current['temp_c']} C\")\n",
    "        print(f\"Condition: {current['condition']['text']}\")\n",
    "        print(f\"Humidity: {current['humidity']}%\")\n",
    "        print(f\"Wind Speed: {current['wind_mph']} mph\")\n",
    "\n",
    "    else:\n",
    "        print(f\"Error fetching data for {city}: {response.status_code}\")"
   ]
  },
  {
   "cell_type": "code",
   "execution_count": null,
   "id": "a8594f3f",
   "metadata": {},
   "outputs": [],
   "source": [
    "get_weather(\"Lexington\")"
   ]
  },
  {
   "cell_type": "code",
   "execution_count": null,
   "id": "b222bdc1",
   "metadata": {},
   "outputs": [],
   "source": [
    "get_weather(\"Chicago\")"
   ]
  },
  {
   "cell_type": "code",
   "execution_count": null,
   "id": "c9625fc3",
   "metadata": {},
   "outputs": [],
   "source": [
    "get_weather(\"   BoSTOn   \")"
   ]
  },
  {
   "cell_type": "code",
   "execution_count": null,
   "id": "9fa85cbc",
   "metadata": {},
   "outputs": [],
   "source": [
    "# make a df for more than 1 city and to save the info\n",
    "cities = [\"Kapaa\", \"Louisville\", \"Morehead\", \"Lihue\", \"New York\"]\n",
    "weather_data = []\n",
    "\n",
    "for city in cities:\n",
    "    url = f\"http://api.weatherapi.com/v1/current.json?key={key}&q={city}\"\n",
    "    response = requests.get(url)\n",
    "\n",
    "    if response.status_code == 200:\n",
    "        data = response.json()\n",
    "        weather_data.append({\n",
    "            \"City\" : data['location']['name'],\n",
    "            \"Temperature\" : data['current']['temp_f'],\n",
    "            \"Condition\" : data['current']['condition']['text'],\n",
    "            \"Humidity\" : data['current']['humidity'],\n",
    "            \"Wind Speed\" : data['current']['wind_mph']\n",
    "        })\n",
    "\n",
    "    else:\n",
    "        print(\"Error fetching data\")"
   ]
  },
  {
   "cell_type": "code",
   "execution_count": null,
   "id": "eab61dc5",
   "metadata": {},
   "outputs": [],
   "source": [
    "weather_data"
   ]
  },
  {
   "cell_type": "code",
   "execution_count": null,
   "id": "f25ee851",
   "metadata": {},
   "outputs": [],
   "source": [
    "# now we can directly turn it into a df\n",
    "weather_df = pd.DataFrame(weather_data)"
   ]
  },
  {
   "cell_type": "code",
   "execution_count": null,
   "id": "d4b2ae31",
   "metadata": {},
   "outputs": [],
   "source": [
    "weather_df"
   ]
  },
  {
   "cell_type": "code",
   "execution_count": null,
   "id": "20ce9847",
   "metadata": {},
   "outputs": [],
   "source": [
    "weather_df.to_csv(\"../data/sample_weather_data.csv\", index=False)"
   ]
  },
  {
   "cell_type": "markdown",
   "id": "810e4bcd",
   "metadata": {},
   "source": [
    "Part 2"
   ]
  },
  {
   "cell_type": "code",
   "execution_count": 28,
   "id": "f5ae3e72",
   "metadata": {},
   "outputs": [],
   "source": [
    "import requests\n",
    "import pandas as pd\n",
    "from datetime import datetime"
   ]
  },
  {
   "cell_type": "code",
   "execution_count": 29,
   "id": "c3e103f2",
   "metadata": {},
   "outputs": [],
   "source": [
    "api_key = '36bb2a64547343d2a68154527250409'\n",
    "baseurl = 'http://api.weatherapi.com/v1/'   # don't forget the slash at the end - it caused a 404 error without it\n",
    "\n",
    "city = \"Louisville\""
   ]
  },
  {
   "cell_type": "code",
   "execution_count": 30,
   "id": "beda987c",
   "metadata": {},
   "outputs": [
    {
     "data": {
      "text/plain": [
       "200"
      ]
     },
     "execution_count": 30,
     "metadata": {},
     "output_type": "execute_result"
    }
   ],
   "source": [
    "response = requests.get(f\"http://api.weatherapi.com/v1/current.json?key={api_key}&q={city}\")\n",
    "response.status_code"
   ]
  },
  {
   "cell_type": "code",
   "execution_count": null,
   "id": "a2480836",
   "metadata": {},
   "outputs": [],
   "source": [
    "data = response.json()\n",
    "data['current']"
   ]
  },
  {
   "cell_type": "code",
   "execution_count": null,
   "id": "1b2920bb",
   "metadata": {},
   "outputs": [],
   "source": [
    "forecast_url = f\"{baseurl}forecast.json?key={api_key}&q={city}&days=3\"\n",
    "forecast_response = requests.get(forecast_url)\n",
    "forecast_response.status_code"
   ]
  },
  {
   "cell_type": "code",
   "execution_count": null,
   "id": "f851cf80",
   "metadata": {},
   "outputs": [],
   "source": [
    "forecast_data = forecast_response.json()\n",
    "forecast = forecast_data['forecast']['forecastday']\n",
    "forecast"
   ]
  },
  {
   "cell_type": "code",
   "execution_count": null,
   "id": "c878fde3",
   "metadata": {},
   "outputs": [],
   "source": [
    "forecast_3_days_summary = []\n",
    "for day in forecast:\n",
    "    forecast_3_days_summary.append(f\"{day['date']} : High {day['day']['maxtemp_f']}F, Low {day['day']['mintemp_f']}F - {day['day']['condition']['text']}\")"
   ]
  },
  {
   "cell_type": "code",
   "execution_count": null,
   "id": "5fa72afc",
   "metadata": {},
   "outputs": [],
   "source": [
    "forecast_3_days_summary"
   ]
  },
  {
   "cell_type": "code",
   "execution_count": null,
   "id": "f7f9d501",
   "metadata": {},
   "outputs": [],
   "source": [
    "forecast_3_days_summary = []\n",
    "for day in forecast:\n",
    "    date_obj = datetime.strptime(day['date'], '%Y-%m-%d')\n",
    "    formatted_date = date_obj.strftime('%A, %B %d')\n",
    "    forecast_3_days_summary.append(f\"{formatted_date}: High {day['day']['maxtemp_f']}F / Low {day['day']['mintemp_f']}F - {day['day']['condition']['text']}\")\n",
    "\n",
    "forecast_3_days_summary"
   ]
  },
  {
   "cell_type": "code",
   "execution_count": null,
   "id": "005e4a54",
   "metadata": {},
   "outputs": [],
   "source": [
    "today = pd.Timestamp.now().strftime(\"%Y-%m-%d\")\n",
    "astronomy_url = f\"{baseurl}astronomy.json?key={api_key}&q={city}&dt={today}\""
   ]
  }
 ],
 "metadata": {
  "kernelspec": {
   "display_name": "Python 3",
   "language": "python",
   "name": "python3"
  },
  "language_info": {
   "codemirror_mode": {
    "name": "ipython",
    "version": 3
   },
   "file_extension": ".py",
   "mimetype": "text/x-python",
   "name": "python",
   "nbconvert_exporter": "python",
   "pygments_lexer": "ipython3",
   "version": "3.13.4"
  }
 },
 "nbformat": 4,
 "nbformat_minor": 5
}
